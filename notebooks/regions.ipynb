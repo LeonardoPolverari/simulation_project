{
 "cells": [
  {
   "cell_type": "code",
   "execution_count": 1,
   "id": "f7184236",
   "metadata": {},
   "outputs": [],
   "source": [
    "import pandas as pd"
   ]
  },
  {
   "cell_type": "code",
   "execution_count": 2,
   "id": "d08f38d1",
   "metadata": {},
   "outputs": [
    {
     "data": {
      "application/vnd.microsoft.datawrangler.viewer.v0+json": {
       "columns": [
        {
         "name": "index",
         "rawType": "int64",
         "type": "integer"
        },
        {
         "name": "Country",
         "rawType": "object",
         "type": "string"
        },
        {
         "name": "Time",
         "rawType": "object",
         "type": "string"
        },
        {
         "name": "Total Exports Value ($US)",
         "rawType": "object",
         "type": "string"
        },
        {
         "name": "Unnamed: 3",
         "rawType": "float64",
         "type": "float"
        }
       ],
       "ref": "07de8798-fa6d-40d4-9a8b-6397b02c0b84",
       "rows": [
        [
         "0",
         "World Total",
         "2002",
         "693,103,192,211",
         null
        ],
        [
         "1",
         "World Total",
         "January 2002",
         "52,667,442,467",
         null
        ],
        [
         "2",
         "World Total",
         "February 2002",
         "53,061,338,573",
         null
        ],
        [
         "3",
         "World Total",
         "March 2002",
         "60,728,372,592",
         null
        ],
        [
         "4",
         "World Total",
         "April 2002",
         "58,146,097,985",
         null
        ],
        [
         "5",
         "World Total",
         "May 2002",
         "59,883,913,607",
         null
        ],
        [
         "6",
         "World Total",
         "June 2002",
         "59,920,419,820",
         null
        ],
        [
         "7",
         "World Total",
         "July 2002",
         "55,032,210,651",
         null
        ],
        [
         "8",
         "World Total",
         "August 2002",
         "59,490,821,439",
         null
        ],
        [
         "9",
         "World Total",
         "September 2002",
         "57,277,325,135",
         null
        ],
        [
         "10",
         "World Total",
         "October 2002",
         "61,975,402,372",
         null
        ],
        [
         "11",
         "World Total",
         "November 2002",
         "59,670,724,135",
         null
        ],
        [
         "12",
         "World Total",
         "December 2002",
         "55,249,123,435",
         null
        ],
        [
         "13",
         "World Total",
         "2003",
         "724,770,982,676",
         null
        ],
        [
         "14",
         "World Total",
         "January 2003",
         "54,854,146,362",
         null
        ],
        [
         "15",
         "World Total",
         "February 2003",
         "55,917,285,577",
         null
        ],
        [
         "16",
         "World Total",
         "March 2003",
         "63,524,230,200",
         null
        ],
        [
         "17",
         "World Total",
         "April 2003",
         "59,162,211,843",
         null
        ],
        [
         "18",
         "World Total",
         "May 2003",
         "59,983,496,293",
         null
        ],
        [
         "19",
         "World Total",
         "June 2003",
         "61,570,192,350",
         null
        ],
        [
         "20",
         "World Total",
         "July 2003",
         "57,070,189,918",
         null
        ],
        [
         "21",
         "World Total",
         "August 2003",
         "58,611,141,939",
         null
        ],
        [
         "22",
         "World Total",
         "September 2003",
         "60,238,622,539",
         null
        ],
        [
         "23",
         "World Total",
         "October 2003",
         "66,388,642,627",
         null
        ],
        [
         "24",
         "World Total",
         "November 2003",
         "64,491,729,340",
         null
        ],
        [
         "25",
         "World Total",
         "December 2003",
         "62,959,093,688",
         null
        ],
        [
         "26",
         "World Total",
         "2004",
         "814,874,653,655",
         null
        ],
        [
         "27",
         "World Total",
         "January 2004",
         "58,924,272,142",
         null
        ],
        [
         "28",
         "World Total",
         "February 2004",
         "63,118,328,934",
         null
        ],
        [
         "29",
         "World Total",
         "March 2004",
         "73,889,724,116",
         null
        ],
        [
         "30",
         "World Total",
         "April 2004",
         "67,555,995,912",
         null
        ],
        [
         "31",
         "World Total",
         "May 2004",
         "69,296,488,583",
         null
        ],
        [
         "32",
         "World Total",
         "June 2004",
         "68,403,103,399",
         null
        ],
        [
         "33",
         "World Total",
         "July 2004",
         "63,878,854,112",
         null
        ],
        [
         "34",
         "World Total",
         "August 2004",
         "67,170,455,835",
         null
        ],
        [
         "35",
         "World Total",
         "September 2004",
         "69,226,139,285",
         null
        ],
        [
         "36",
         "World Total",
         "October 2004",
         "73,091,090,662",
         null
        ],
        [
         "37",
         "World Total",
         "November 2004",
         "69,209,421,299",
         null
        ],
        [
         "38",
         "World Total",
         "December 2004",
         "71,110,779,376",
         null
        ],
        [
         "39",
         "World Total",
         "2005",
         "901,081,812,545",
         null
        ],
        [
         "40",
         "World Total",
         "January 2005",
         "66,149,062,869",
         null
        ],
        [
         "41",
         "World Total",
         "February 2005",
         "68,256,311,141",
         null
        ],
        [
         "42",
         "World Total",
         "March 2005",
         "79,512,577,826",
         null
        ],
        [
         "43",
         "World Total",
         "April 2005",
         "75,914,357,135",
         null
        ],
        [
         "44",
         "World Total",
         "May 2005",
         "75,852,416,265",
         null
        ],
        [
         "45",
         "World Total",
         "June 2005",
         "77,589,306,630",
         null
        ],
        [
         "46",
         "World Total",
         "July 2005",
         "70,026,724,192",
         null
        ],
        [
         "47",
         "World Total",
         "August 2005",
         "76,693,338,164",
         null
        ],
        [
         "48",
         "World Total",
         "September 2005",
         "74,304,140,414",
         null
        ],
        [
         "49",
         "World Total",
         "October 2005",
         "79,147,116,402",
         null
        ]
       ],
       "shape": {
        "columns": 4,
        "rows": 215224
       }
      },
      "text/html": [
       "<div>\n",
       "<style scoped>\n",
       "    .dataframe tbody tr th:only-of-type {\n",
       "        vertical-align: middle;\n",
       "    }\n",
       "\n",
       "    .dataframe tbody tr th {\n",
       "        vertical-align: top;\n",
       "    }\n",
       "\n",
       "    .dataframe thead th {\n",
       "        text-align: right;\n",
       "    }\n",
       "</style>\n",
       "<table border=\"1\" class=\"dataframe\">\n",
       "  <thead>\n",
       "    <tr style=\"text-align: right;\">\n",
       "      <th></th>\n",
       "      <th>Country</th>\n",
       "      <th>Time</th>\n",
       "      <th>Total Exports Value ($US)</th>\n",
       "      <th>Unnamed: 3</th>\n",
       "    </tr>\n",
       "  </thead>\n",
       "  <tbody>\n",
       "    <tr>\n",
       "      <th>0</th>\n",
       "      <td>World Total</td>\n",
       "      <td>2002</td>\n",
       "      <td>693,103,192,211</td>\n",
       "      <td>NaN</td>\n",
       "    </tr>\n",
       "    <tr>\n",
       "      <th>1</th>\n",
       "      <td>World Total</td>\n",
       "      <td>January 2002</td>\n",
       "      <td>52,667,442,467</td>\n",
       "      <td>NaN</td>\n",
       "    </tr>\n",
       "    <tr>\n",
       "      <th>2</th>\n",
       "      <td>World Total</td>\n",
       "      <td>February 2002</td>\n",
       "      <td>53,061,338,573</td>\n",
       "      <td>NaN</td>\n",
       "    </tr>\n",
       "    <tr>\n",
       "      <th>3</th>\n",
       "      <td>World Total</td>\n",
       "      <td>March 2002</td>\n",
       "      <td>60,728,372,592</td>\n",
       "      <td>NaN</td>\n",
       "    </tr>\n",
       "    <tr>\n",
       "      <th>4</th>\n",
       "      <td>World Total</td>\n",
       "      <td>April 2002</td>\n",
       "      <td>58,146,097,985</td>\n",
       "      <td>NaN</td>\n",
       "    </tr>\n",
       "    <tr>\n",
       "      <th>...</th>\n",
       "      <td>...</td>\n",
       "      <td>...</td>\n",
       "      <td>...</td>\n",
       "      <td>...</td>\n",
       "    </tr>\n",
       "    <tr>\n",
       "      <th>215219</th>\n",
       "      <td>Singapore</td>\n",
       "      <td>2025 through April</td>\n",
       "      <td>14,524,875,009</td>\n",
       "      <td>NaN</td>\n",
       "    </tr>\n",
       "    <tr>\n",
       "      <th>215220</th>\n",
       "      <td>Singapore</td>\n",
       "      <td>January 2025</td>\n",
       "      <td>3,117,843,756</td>\n",
       "      <td>NaN</td>\n",
       "    </tr>\n",
       "    <tr>\n",
       "      <th>215221</th>\n",
       "      <td>Singapore</td>\n",
       "      <td>February 2025</td>\n",
       "      <td>3,390,407,732</td>\n",
       "      <td>NaN</td>\n",
       "    </tr>\n",
       "    <tr>\n",
       "      <th>215222</th>\n",
       "      <td>Singapore</td>\n",
       "      <td>March 2025</td>\n",
       "      <td>3,477,194,615</td>\n",
       "      <td>NaN</td>\n",
       "    </tr>\n",
       "    <tr>\n",
       "      <th>215223</th>\n",
       "      <td>Singapore</td>\n",
       "      <td>April 2025</td>\n",
       "      <td>4,539,428,906</td>\n",
       "      <td>NaN</td>\n",
       "    </tr>\n",
       "  </tbody>\n",
       "</table>\n",
       "<p>215224 rows × 4 columns</p>\n",
       "</div>"
      ],
      "text/plain": [
       "            Country                Time Total Exports Value ($US)  Unnamed: 3\n",
       "0       World Total                2002           693,103,192,211         NaN\n",
       "1       World Total        January 2002            52,667,442,467         NaN\n",
       "2       World Total       February 2002            53,061,338,573         NaN\n",
       "3       World Total          March 2002            60,728,372,592         NaN\n",
       "4       World Total          April 2002            58,146,097,985         NaN\n",
       "...             ...                 ...                       ...         ...\n",
       "215219    Singapore  2025 through April            14,524,875,009         NaN\n",
       "215220    Singapore        January 2025             3,117,843,756         NaN\n",
       "215221    Singapore       February 2025             3,390,407,732         NaN\n",
       "215222    Singapore          March 2025             3,477,194,615         NaN\n",
       "215223    Singapore          April 2025             4,539,428,906         NaN\n",
       "\n",
       "[215224 rows x 4 columns]"
      ]
     },
     "execution_count": 2,
     "metadata": {},
     "output_type": "execute_result"
    }
   ],
   "source": [
    "countries = pd.read_csv('/Users/mattia/Desktop/DSBA/Simulation and modeling/A.Y. 2024:2025/simulation_project/data/State Exports by NAICS Commodities.csv')\n",
    "countries"
   ]
  },
  {
   "cell_type": "code",
   "execution_count": null,
   "id": "7f0f4ec4",
   "metadata": {},
   "outputs": [],
   "source": [
    "analysis_countries = ['China', 'Hong Kong', 'France', 'Germany', 'Italy', 'Japan', 'Malaysia', 'Netherlands', 'Philippines', 'Singapore', 'Thailand', 'Korea, South',\n",
    "     'Vietnam']\n",
    "countries_filtered = countries[countries['Country'].isin(analysis_countries)].reset_index(drop=True)\n",
    "countries_filtered = countries_filtered.loc[~ countries_filtered['Time'].str[0].isin(list('1234567890'))]"
   ]
  },
  {
   "cell_type": "code",
   "execution_count": 8,
   "id": "d60a1fe9",
   "metadata": {},
   "outputs": [
    {
     "data": {
      "application/vnd.microsoft.datawrangler.viewer.v0+json": {
       "columns": [
        {
         "name": "index",
         "rawType": "int64",
         "type": "integer"
        },
        {
         "name": "Country",
         "rawType": "object",
         "type": "string"
        },
        {
         "name": "Time",
         "rawType": "object",
         "type": "string"
        },
        {
         "name": "Total Exports Value ($US)",
         "rawType": "object",
         "type": "string"
        },
        {
         "name": "Unnamed: 3",
         "rawType": "float64",
         "type": "float"
        }
       ],
       "ref": "bc2444b4-c0b9-4459-831a-52f55b1911d2",
       "rows": [
        [
         "1",
         "China",
         "January 2002",
         "1,569,313,503",
         null
        ],
        [
         "2",
         "China",
         "February 2002",
         "1,529,492,578",
         null
        ],
        [
         "3",
         "China",
         "March 2002",
         "1,620,488,889",
         null
        ],
        [
         "4",
         "China",
         "April 2002",
         "1,544,544,989",
         null
        ],
        [
         "5",
         "China",
         "May 2002",
         "1,773,915,631",
         null
        ],
        [
         "6",
         "China",
         "June 2002",
         "2,205,939,528",
         null
        ],
        [
         "7",
         "China",
         "July 2002",
         "1,847,999,145",
         null
        ],
        [
         "8",
         "China",
         "August 2002",
         "1,839,815,968",
         null
        ],
        [
         "9",
         "China",
         "September 2002",
         "2,023,728,253",
         null
        ],
        [
         "10",
         "China",
         "October 2002",
         "1,962,695,203",
         null
        ],
        [
         "11",
         "China",
         "November 2002",
         "2,160,758,163",
         null
        ],
        [
         "12",
         "China",
         "December 2002",
         "2,049,098,442",
         null
        ],
        [
         "14",
         "China",
         "January 2003",
         "2,069,831,893",
         null
        ],
        [
         "15",
         "China",
         "February 2003",
         "2,048,670,815",
         null
        ],
        [
         "16",
         "China",
         "March 2003",
         "2,423,104,708",
         null
        ],
        [
         "17",
         "China",
         "April 2003",
         "2,121,946,680",
         null
        ],
        [
         "18",
         "China",
         "May 2003",
         "1,984,318,683",
         null
        ],
        [
         "19",
         "China",
         "June 2003",
         "2,119,621,137",
         null
        ],
        [
         "20",
         "China",
         "July 2003",
         "2,067,405,578",
         null
        ],
        [
         "21",
         "China",
         "August 2003",
         "2,034,428,227",
         null
        ],
        [
         "22",
         "China",
         "September 2003",
         "2,090,976,796",
         null
        ],
        [
         "23",
         "China",
         "October 2003",
         "2,778,336,455",
         null
        ],
        [
         "24",
         "China",
         "November 2003",
         "3,319,692,649",
         null
        ],
        [
         "25",
         "China",
         "December 2003",
         "3,309,609,238",
         null
        ],
        [
         "27",
         "China",
         "January 2004",
         "2,620,489,793",
         null
        ],
        [
         "28",
         "China",
         "February 2004",
         "2,928,991,616",
         null
        ],
        [
         "29",
         "China",
         "March 2004",
         "3,361,910,701",
         null
        ],
        [
         "30",
         "China",
         "April 2004",
         "2,734,553,860",
         null
        ],
        [
         "31",
         "China",
         "May 2004",
         "2,835,052,068",
         null
        ],
        [
         "32",
         "China",
         "June 2004",
         "2,764,217,124",
         null
        ],
        [
         "33",
         "China",
         "July 2004",
         "2,618,793,915",
         null
        ],
        [
         "34",
         "China",
         "August 2004",
         "2,620,970,808",
         null
        ],
        [
         "35",
         "China",
         "September 2004",
         "2,823,070,552",
         null
        ],
        [
         "36",
         "China",
         "October 2004",
         "2,946,743,822",
         null
        ],
        [
         "37",
         "China",
         "November 2004",
         "2,938,175,371",
         null
        ],
        [
         "38",
         "China",
         "December 2004",
         "3,234,802,826",
         null
        ],
        [
         "40",
         "China",
         "January 2005",
         "2,609,326,126",
         null
        ],
        [
         "41",
         "China",
         "February 2005",
         "3,058,089,091",
         null
        ],
        [
         "42",
         "China",
         "March 2005",
         "3,336,381,178",
         null
        ],
        [
         "43",
         "China",
         "April 2005",
         "3,263,670,754",
         null
        ],
        [
         "44",
         "China",
         "May 2005",
         "3,222,909,738",
         null
        ],
        [
         "45",
         "China",
         "June 2005",
         "3,370,730,806",
         null
        ],
        [
         "46",
         "China",
         "July 2005",
         "3,559,972,145",
         null
        ],
        [
         "47",
         "China",
         "August 2005",
         "3,728,723,847",
         null
        ],
        [
         "48",
         "China",
         "September 2005",
         "3,165,813,266",
         null
        ],
        [
         "49",
         "China",
         "October 2005",
         "3,899,151,496",
         null
        ],
        [
         "50",
         "China",
         "November 2005",
         "3,807,491,572",
         null
        ],
        [
         "51",
         "China",
         "December 2005",
         "4,169,750,104",
         null
        ],
        [
         "53",
         "China",
         "January 2006",
         "3,396,870,149",
         null
        ],
        [
         "54",
         "China",
         "February 2006",
         "4,072,245,086",
         null
        ]
       ],
       "shape": {
        "columns": 4,
        "rows": 19600
       }
      },
      "text/html": [
       "<div>\n",
       "<style scoped>\n",
       "    .dataframe tbody tr th:only-of-type {\n",
       "        vertical-align: middle;\n",
       "    }\n",
       "\n",
       "    .dataframe tbody tr th {\n",
       "        vertical-align: top;\n",
       "    }\n",
       "\n",
       "    .dataframe thead th {\n",
       "        text-align: right;\n",
       "    }\n",
       "</style>\n",
       "<table border=\"1\" class=\"dataframe\">\n",
       "  <thead>\n",
       "    <tr style=\"text-align: right;\">\n",
       "      <th></th>\n",
       "      <th>Country</th>\n",
       "      <th>Time</th>\n",
       "      <th>Total Exports Value ($US)</th>\n",
       "      <th>Unnamed: 3</th>\n",
       "    </tr>\n",
       "  </thead>\n",
       "  <tbody>\n",
       "    <tr>\n",
       "      <th>1</th>\n",
       "      <td>China</td>\n",
       "      <td>January 2002</td>\n",
       "      <td>1,569,313,503</td>\n",
       "      <td>NaN</td>\n",
       "    </tr>\n",
       "    <tr>\n",
       "      <th>2</th>\n",
       "      <td>China</td>\n",
       "      <td>February 2002</td>\n",
       "      <td>1,529,492,578</td>\n",
       "      <td>NaN</td>\n",
       "    </tr>\n",
       "    <tr>\n",
       "      <th>3</th>\n",
       "      <td>China</td>\n",
       "      <td>March 2002</td>\n",
       "      <td>1,620,488,889</td>\n",
       "      <td>NaN</td>\n",
       "    </tr>\n",
       "    <tr>\n",
       "      <th>4</th>\n",
       "      <td>China</td>\n",
       "      <td>April 2002</td>\n",
       "      <td>1,544,544,989</td>\n",
       "      <td>NaN</td>\n",
       "    </tr>\n",
       "    <tr>\n",
       "      <th>5</th>\n",
       "      <td>China</td>\n",
       "      <td>May 2002</td>\n",
       "      <td>1,773,915,631</td>\n",
       "      <td>NaN</td>\n",
       "    </tr>\n",
       "    <tr>\n",
       "      <th>...</th>\n",
       "      <td>...</td>\n",
       "      <td>...</td>\n",
       "      <td>...</td>\n",
       "      <td>...</td>\n",
       "    </tr>\n",
       "    <tr>\n",
       "      <th>21274</th>\n",
       "      <td>Singapore</td>\n",
       "      <td>December 2024</td>\n",
       "      <td>3,533,535,385</td>\n",
       "      <td>NaN</td>\n",
       "    </tr>\n",
       "    <tr>\n",
       "      <th>21276</th>\n",
       "      <td>Singapore</td>\n",
       "      <td>January 2025</td>\n",
       "      <td>3,117,843,756</td>\n",
       "      <td>NaN</td>\n",
       "    </tr>\n",
       "    <tr>\n",
       "      <th>21277</th>\n",
       "      <td>Singapore</td>\n",
       "      <td>February 2025</td>\n",
       "      <td>3,390,407,732</td>\n",
       "      <td>NaN</td>\n",
       "    </tr>\n",
       "    <tr>\n",
       "      <th>21278</th>\n",
       "      <td>Singapore</td>\n",
       "      <td>March 2025</td>\n",
       "      <td>3,477,194,615</td>\n",
       "      <td>NaN</td>\n",
       "    </tr>\n",
       "    <tr>\n",
       "      <th>21279</th>\n",
       "      <td>Singapore</td>\n",
       "      <td>April 2025</td>\n",
       "      <td>4,539,428,906</td>\n",
       "      <td>NaN</td>\n",
       "    </tr>\n",
       "  </tbody>\n",
       "</table>\n",
       "<p>19600 rows × 4 columns</p>\n",
       "</div>"
      ],
      "text/plain": [
       "         Country           Time Total Exports Value ($US)  Unnamed: 3\n",
       "1          China   January 2002             1,569,313,503         NaN\n",
       "2          China  February 2002             1,529,492,578         NaN\n",
       "3          China     March 2002             1,620,488,889         NaN\n",
       "4          China     April 2002             1,544,544,989         NaN\n",
       "5          China       May 2002             1,773,915,631         NaN\n",
       "...          ...            ...                       ...         ...\n",
       "21274  Singapore  December 2024             3,533,535,385         NaN\n",
       "21276  Singapore   January 2025             3,117,843,756         NaN\n",
       "21277  Singapore  February 2025             3,390,407,732         NaN\n",
       "21278  Singapore     March 2025             3,477,194,615         NaN\n",
       "21279  Singapore     April 2025             4,539,428,906         NaN\n",
       "\n",
       "[19600 rows x 4 columns]"
      ]
     },
     "execution_count": 8,
     "metadata": {},
     "output_type": "execute_result"
    }
   ],
   "source": [
    "countries_filtered"
   ]
  },
  {
   "cell_type": "code",
   "execution_count": null,
   "id": "5051ffa4",
   "metadata": {},
   "outputs": [],
   "source": []
  }
 ],
 "metadata": {
  "kernelspec": {
   "display_name": "base",
   "language": "python",
   "name": "python3"
  },
  "language_info": {
   "codemirror_mode": {
    "name": "ipython",
    "version": 3
   },
   "file_extension": ".py",
   "mimetype": "text/x-python",
   "name": "python",
   "nbconvert_exporter": "python",
   "pygments_lexer": "ipython3",
   "version": "3.12.7"
  }
 },
 "nbformat": 4,
 "nbformat_minor": 5
}
